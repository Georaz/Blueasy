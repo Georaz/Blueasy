{
  "nbformat": 4,
  "nbformat_minor": 0,
  "metadata": {
    "colab": {
      "provenance": [],
      "authorship_tag": "ABX9TyOUEN7bDLKQ8r5lCqvH7Nrg",
      "include_colab_link": true
    },
    "kernelspec": {
      "name": "python3",
      "display_name": "Python 3"
    },
    "language_info": {
      "name": "python"
    }
  },
  "cells": [
    {
      "cell_type": "markdown",
      "metadata": {
        "id": "view-in-github",
        "colab_type": "text"
      },
      "source": [
        "<a href=\"https://colab.research.google.com/github/Georaz/Blueasy/blob/master/Dataset.ipynb\" target=\"_parent\"><img src=\"https://colab.research.google.com/assets/colab-badge.svg\" alt=\"Open In Colab\"/></a>"
      ]
    },
    {
      "cell_type": "code",
      "source": [
        "import gdown\n",
        "import pandas as pd"
      ],
      "metadata": {
        "id": "WwbLbAW3yl2a"
      },
      "execution_count": 46,
      "outputs": []
    },
    {
      "cell_type": "code",
      "source": [
        "url_1 = 'https://docs.google.com/uc?id=1az-ziT5_0HMOjYGr3fhH8NqWzUNoJgRl'\n",
        "url_2 = 'https://docs.google.com/uc?id=1PIkjYj2M0h8xndajzQS9jhnLJ_nG2hIQ'\n",
        "url_3 = 'https://docs.google.com/uc?id=125FymwE1eE23UpzEYQZWY1A0iupcXL4P'"
      ],
      "metadata": {
        "id": "aIUxoqCc59RI"
      },
      "execution_count": 47,
      "outputs": []
    },
    {
      "cell_type": "code",
      "source": [
        "table_1 = '/content/01.06.2023-30.09.2023-OneDelivery-ORDERS-23.01.2024-11.16.20.csv'\n",
        "table_2 = '/content/01.10.2023-23.01.2024-OneDelivery-ORDERS-23.01.2024-11.17.42.csv'\n",
        "table_3 = '/content/OneDelivery-ORDERS-17.01.2024-14.27.50.csv'"
      ],
      "metadata": {
        "id": "5D4e_2jO7SVk"
      },
      "execution_count": 48,
      "outputs": []
    },
    {
      "cell_type": "code",
      "source": [
        "gdown.download(f'{url_1}', None, quiet=True)"
      ],
      "metadata": {
        "id": "mQV9kI76yoFz"
      },
      "execution_count": null,
      "outputs": []
    },
    {
      "cell_type": "code",
      "source": [
        "gdown.download(f'{url_2}', None, quiet=True)"
      ],
      "metadata": {
        "id": "NyLbtwNR3_pq"
      },
      "execution_count": null,
      "outputs": []
    },
    {
      "cell_type": "code",
      "source": [
        "gdown.download(f'{url_3}', None, quiet=True)"
      ],
      "metadata": {
        "id": "TWu35YVO4B3Q"
      },
      "execution_count": null,
      "outputs": []
    },
    {
      "cell_type": "code",
      "source": [
        "dataset_1 = pd.read_csv(table_1, sep=';', encoding='utf-8')"
      ],
      "metadata": {
        "id": "6X-xYxuw7_I_"
      },
      "execution_count": 66,
      "outputs": []
    },
    {
      "cell_type": "code",
      "source": [
        "dataset_2 = pd.read_csv(table_2, sep=';', encoding='utf-8')"
      ],
      "metadata": {
        "id": "TIzAit1u9PtZ"
      },
      "execution_count": 67,
      "outputs": []
    },
    {
      "cell_type": "code",
      "source": [
        "dataset_3 = pd.read_csv(table_3, sep=';', encoding='utf-8')"
      ],
      "metadata": {
        "id": "ryQ7bv7l9QJT"
      },
      "execution_count": 68,
      "outputs": []
    },
    {
      "cell_type": "code",
      "source": [
        "final_table = pd.concat((dataset_1, dataset_2), ignore_index=True)"
      ],
      "metadata": {
        "id": "CTeJcIZx6_d9"
      },
      "execution_count": 71,
      "outputs": []
    },
    {
      "cell_type": "code",
      "source": [
        "final_table = pd.concat((final_table, dataset_3), ignore_index=True)"
      ],
      "metadata": {
        "id": "Yw8fObx7_nv7"
      },
      "execution_count": 75,
      "outputs": []
    },
    {
      "cell_type": "code",
      "source": [
        "#Объединение датасетов\n",
        "final_table = final_table.fillna(0)"
      ],
      "metadata": {
        "id": "kwXFo8d5Aiev"
      },
      "execution_count": null,
      "outputs": []
    }
  ]
}